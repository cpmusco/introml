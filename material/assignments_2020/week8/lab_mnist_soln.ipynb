{
 "cells": [
  {
   "cell_type": "markdown",
   "metadata": {},
   "source": [
    "# The SVM vs. Logistic Regression Showdown\n",
    "\n",
    "In this lab, you will practice working with non-linear kernels combined with logistic regression and SVM classifiers. The goal is to compare these commonly used techniques. Which comes out on top in terms of accuracy? Runtime? Is there much of a difference at all? Is the dominance of the SVM classifier in machine learning pedagogy justified? "
   ]
  },
  {
   "cell_type": "markdown",
   "metadata": {},
   "source": [
    "## Loading the Data\n",
    "\n",
    "First, we load all the packages we'll need."
   ]
  },
  {
   "cell_type": "code",
   "execution_count": 2,
   "metadata": {},
   "outputs": [],
   "source": [
    "import numpy as np\n",
    "import matplotlib\n",
    "import matplotlib.pyplot as plt\n",
    "%matplotlib inline\n",
    "from sklearn.metrics.pairwise import pairwise_kernels\n",
    "import scipy\n",
    "from sklearn import svm, linear_model\n",
    "from sklearn.model_selection import GridSearchCV\n",
    "import time"
   ]
  },
  {
   "cell_type": "markdown",
   "metadata": {},
   "source": [
    "Again we download the data from the Tensorflow package -- See here for [installations instructions](https://www.tensorflow.org/install).  You can get the data from other sources as well. \n",
    "\n",
    "In the Tensorflow dataset, the training and test data are represented as arrays:\n",
    "\n",
    "     Xtr.shape = 60000 x 28 x 28\n",
    "     Xts.shape = 10000 x 28 x 28\n",
    "     \n",
    "The test data consists of `60000` images of size `28 x 28` pixels; the test data consists of `10000` images."
   ]
  },
  {
   "cell_type": "code",
   "execution_count": 3,
   "metadata": {},
   "outputs": [
    {
     "name": "stdout",
     "output_type": "stream",
     "text": [
      "Xtr shape: (60000, 28, 28)\n",
      "Xts shape: (10000, 28, 28)\n"
     ]
    }
   ],
   "source": [
    "import tensorflow as tf\n",
    "\n",
    "(Xtr_raw,ytr),(Xts_raw,yts) = tf.keras.datasets.mnist.load_data()\n",
    "\n",
    "print('Xtr shape: %s' % str(Xtr_raw.shape))\n",
    "print('Xts shape: %s' % str(Xts_raw.shape))\n",
    "\n",
    "ntr = Xtr_raw.shape[0]\n",
    "nts = Xts_raw.shape[0]\n",
    "nrow = Xtr_raw.shape[1]\n",
    "ncol = Xtr_raw.shape[2]"
   ]
  },
  {
   "cell_type": "markdown",
   "metadata": {},
   "source": [
    "Each pixel value is from `[0,255]`.  For this lab, it will be convenient to recale the value to -1 to 1 and reshape it as a `ntr x npix` and `nts x npix`."
   ]
  },
  {
   "cell_type": "code",
   "execution_count": 4,
   "metadata": {},
   "outputs": [],
   "source": [
    "npix = nrow*ncol\n",
    "Xtr = (Xtr_raw/255 - 0.5)\n",
    "Xtr = Xtr.reshape((ntr,npix))\n",
    "\n",
    "Xts = (Xts_raw/255 - 0.5)\n",
    "Xts = Xts.reshape((nts,npix))"
   ]
  },
  {
   "cell_type": "markdown",
   "metadata": {},
   "source": [
    "For this lab we're only going to use a fraction of the MNIST data -- otherwise our models will take too much time and memory to run. Using only part of the training data will of course lead to worse results. Given enough computational resources and time, we would ideally be running on the full data set. The follow code creates a new test and train set, with 5000 examples for train and 4000 for test. "
   ]
  },
  {
   "cell_type": "code",
   "execution_count": 5,
   "metadata": {},
   "outputs": [],
   "source": [
    "ntr1 = 5000\n",
    "nts1 = 4000\n",
    "Iperm = np.random.permutation(ntr1)\n",
    "Xtr1 = Xtr[Iperm[:ntr1],:]\n",
    "ytr1 = ytr[Iperm[:ntr1]]\n",
    "Iperm = np.random.permutation(nts1)\n",
    "Xts1 = Xts[Iperm[:nts1],:]\n",
    "yts1 = yts[Iperm[:nts1]]"
   ]
  },
  {
   "cell_type": "markdown",
   "metadata": {},
   "source": [
    "## Problem set up and establishing a baseline"
   ]
  },
  {
   "cell_type": "markdown",
   "metadata": {},
   "source": [
    "To simplify the problem (and speed things up) we're also going to restrict to binary classification. In particular, let's try to design classifier a that separates the 8's from all other digits. To classify intro all 10 classes, we would need to train 10 such classifiers, which would take roughly 10x the computational time. \n",
    "\n",
    "Create binary 0/1 label vectors `ytr8` and `yts8` which are 1 wherever `ytr1` and `yts1` equal 8, and 0 everywhere else."
   ]
  },
  {
   "cell_type": "code",
   "execution_count": 6,
   "metadata": {},
   "outputs": [],
   "source": [
    "# TODO\n",
    "# ytr8 = \n",
    "# yts8 = "
   ]
  },
  {
   "cell_type": "code",
   "execution_count": 7,
   "metadata": {},
   "outputs": [],
   "source": [
    "ytr8 = 1*(ytr1 == 8)\n",
    "yts8 = 1*(yts1 == 8)"
   ]
  },
  {
   "cell_type": "markdown",
   "metadata": {},
   "source": [
    "Most of the digits in the test dataset aren't equal to 8. So if we simply guess 0 for every image in `Xts`, we might expect to get classification accuracy around 90%. Our goal should be to significantly beat this **baseline**. \n",
    "\n",
    "Formally, write a few lines of code to check what test error would be achieved by the all zeros classifier."
   ]
  },
  {
   "cell_type": "code",
   "execution_count": 8,
   "metadata": {},
   "outputs": [],
   "source": [
    "# TODO\n",
    "# ...\n",
    "# acc = \n",
    "# print('Accuaracy = {0:f}'.format(acc))"
   ]
  },
  {
   "cell_type": "code",
   "execution_count": 9,
   "metadata": {},
   "outputs": [
    {
     "name": "stdout",
     "output_type": "stream",
     "text": [
      "Baseline Accuaracy = 0.904000\n"
     ]
    }
   ],
   "source": [
    "acc = 1 - sum(yts8)/yts8.shape[0]\n",
    "print('Baseline Accuaracy = {0:f}'.format(acc))"
   ]
  },
  {
   "cell_type": "markdown",
   "metadata": {},
   "source": [
    "As a second baseline, let's see how we do with standard (non-kernel) logistic regression. As in the MNIST demo, you can use `scikit-learn`'s built in function `linear_model.LogisticRegression` to fit the model and compute the accuracy. Use no regularization and the `lbfgs` solver. You should acheive an improvement to around 94-95%."
   ]
  },
  {
   "cell_type": "code",
   "execution_count": 10,
   "metadata": {},
   "outputs": [],
   "source": [
    "# TODO\n",
    "# ...\n",
    "# acc = \n",
    "# print('Logistic Regression Accuaracy = {0:f}'.format(acc))"
   ]
  },
  {
   "cell_type": "code",
   "execution_count": 11,
   "metadata": {
    "scrolled": true
   },
   "outputs": [
    {
     "name": "stderr",
     "output_type": "stream",
     "text": [
      "[Parallel(n_jobs=1)]: Using backend SequentialBackend with 1 concurrent workers.\n"
     ]
    },
    {
     "name": "stdout",
     "output_type": "stream",
     "text": [
      "Logistic Regression Accuaracy = 0.919250\n"
     ]
    },
    {
     "name": "stderr",
     "output_type": "stream",
     "text": [
      "[Parallel(n_jobs=1)]: Done   1 out of   1 | elapsed:    3.1s remaining:    0.0s\n",
      "[Parallel(n_jobs=1)]: Done   1 out of   1 | elapsed:    3.1s finished\n"
     ]
    }
   ],
   "source": [
    "logreg = linear_model.LogisticRegression(verbose=10, solver='lbfgs',max_iter=1000, penalty='none')\n",
    "logreg.fit(Xtr1,ytr8)\n",
    "yhat = logreg.predict(Xts1)\n",
    "acc = np.mean(yhat == yts8)\n",
    "print('Logistic Regression Accuaracy = {0:f}'.format(acc))"
   ]
  },
  {
   "cell_type": "markdown",
   "metadata": {},
   "source": [
    "## Kernel Logistic Regression\n",
    "\n",
    "To improve on this baseline performance, let's try using the logistic regression classifier with a *non-linear* kernel. Recall from class that any non-linear kernel similarity function $k(\\vec{w},\\vec{z})$ is equal to $\\phi(\\vec{w})^T\\phi(\\vec{z})$ for some feature transformation $\\phi$. However, we typically do not need to compute this feature tranformation explicitly: instead we can work directly with the kernel gram matrix $K \\in \\mathbb{R}^{n\\times n}$. Recall that $K_{i,j} = k(\\vec{x}_i,\\vec{x}_j)$ where $\\vec{x}_i$ is the $i^\\text{th}$ training data point. \n",
    "\n",
    "For this lab we will be using the radial basis function kernel. For a given scaling factor $\\gamma$ this kernel is defined as:\n",
    "$$\n",
    "k(\\vec{w},\\vec{z}) = e^{-\\gamma\\|\\vec{w},\\vec{z}\\|_2^2}\n",
    "$$"
   ]
  },
  {
   "cell_type": "code",
   "execution_count": 12,
   "metadata": {},
   "outputs": [],
   "source": [
    "def rbf_kernel(w,z,gamma):\n",
    "    d = w - z\n",
    "    return np.exp(-gamma*np.sum(d*d))"
   ]
  },
  {
   "cell_type": "markdown",
   "metadata": {},
   "source": [
    "Construct the kernel matrix `K1` for `Xtr1` with `gamma = .05`."
   ]
  },
  {
   "cell_type": "code",
   "execution_count": 12,
   "metadata": {},
   "outputs": [],
   "source": [
    "# TODO\n",
    "# K1 = "
   ]
  },
  {
   "cell_type": "code",
   "execution_count": 13,
   "metadata": {},
   "outputs": [],
   "source": [
    "gam = 1"
   ]
  },
  {
   "cell_type": "code",
   "execution_count": 15,
   "metadata": {},
   "outputs": [],
   "source": [
    "n = Xtr1.shape[0]\n",
    "K1 = np.zeros((n,n))\n",
    "for i in range(n):\n",
    "    for j in range(i,n):\n",
    "        K1[i,j] = rbf_kernel(Xtr1[i,:],Xtr1[j,:],gam)\n",
    "        K1[j,i] = K1[i,j]"
   ]
  },
  {
   "cell_type": "markdown",
   "metadata": {},
   "source": [
    "If you used a for loop (which is fine) your code might take several minutes to run! Part of the issue, as we saw with matrix operations in `demo2_more_numpy.ipynb`, is that Python won't know to properly parallize your for loop. For this reason, when constructing kernel matrices it is often faster to us a built-in, carefully optimized function with explicit parallelization. Scikit learn provides such a function through their `metrics` library. \n",
    "\n",
    "Referring to the documentation here\n",
    "https://scikit-learn.org/stable/modules/metrics.html#metrics, use this built in function to recreate the same kernel matrix you did above. Store the result at `K`."
   ]
  },
  {
   "cell_type": "code",
   "execution_count": 15,
   "metadata": {},
   "outputs": [],
   "source": [
    "# TODO\n",
    "# K = "
   ]
  },
  {
   "cell_type": "code",
   "execution_count": 16,
   "metadata": {},
   "outputs": [],
   "source": [
    "K = pairwise_kernels(Xtr1, Xtr1, metric='rbf', gamma=gam)"
   ]
  },
  {
   "cell_type": "code",
   "execution_count": 15,
   "metadata": {},
   "outputs": [],
   "source": [
    "i1 = np.array([[0,0,0,0,0],\n",
    "               [0,1,1,1,0],\n",
    "               [0,1,0,1,0],\n",
    "               [0,1,1,1,0],\n",
    "               [0,0,0,0,0]])\n",
    "i2 = np.array([[0,0,0,0,0],\n",
    "               [0,0,1,0,0],\n",
    "               [0,0,1,0,0],\n",
    "               [0,0,1,0,0],\n",
    "               [0,0,0,0,0]])"
   ]
  },
  {
   "cell_type": "code",
   "execution_count": 24,
   "metadata": {},
   "outputs": [],
   "source": [
    "i1_vector = i1.flatten()\n",
    "i2_vector = i2.flatten()"
   ]
  },
  {
   "cell_type": "code",
   "execution_count": 25,
   "metadata": {},
   "outputs": [
    {
     "data": {
      "text/plain": [
       "array([0, 0, 0, 0, 0, 0, 1, 1, 1, 0, 0, 1, 0, 1, 0, 0, 1, 1, 1, 0, 0, 0,\n",
       "       0, 0, 0])"
      ]
     },
     "execution_count": 25,
     "metadata": {},
     "output_type": "execute_result"
    }
   ],
   "source": [
    "i1_vector"
   ]
  },
  {
   "cell_type": "code",
   "execution_count": 26,
   "metadata": {},
   "outputs": [],
   "source": [
    "X = np.vstack((i1_vector,i2_vector))"
   ]
  },
  {
   "cell_type": "code",
   "execution_count": 41,
   "metadata": {},
   "outputs": [],
   "source": [
    "K = pairwise_kernels(X, metric='rbf', gamma=1/25)"
   ]
  },
  {
   "cell_type": "code",
   "execution_count": 42,
   "metadata": {},
   "outputs": [
    {
     "data": {
      "text/plain": [
       "array([[1.        , 0.75578374],\n",
       "       [0.75578374, 1.        ]])"
      ]
     },
     "execution_count": 42,
     "metadata": {},
     "output_type": "execute_result"
    }
   ],
   "source": [
    "K"
   ]
  },
  {
   "cell_type": "code",
   "execution_count": 18,
   "metadata": {},
   "outputs": [],
   "source": [
    "K = pairwise_kernels(Xtr1, metric='rbf', gamma=gam)"
   ]
  },
  {
   "cell_type": "code",
   "execution_count": 19,
   "metadata": {},
   "outputs": [
    {
     "data": {
      "text/plain": [
       "array([[1.        , 0.04570934, 0.0187686 , ..., 0.01821459, 0.032107  ,\n",
       "        0.01722649],\n",
       "       [0.04570934, 1.        , 0.01571971, ..., 0.0153762 , 0.00830409,\n",
       "        0.00436921],\n",
       "       [0.0187686 , 0.01571971, 1.        , ..., 0.29203984, 0.00817315,\n",
       "        0.00712422],\n",
       "       ...,\n",
       "       [0.01821459, 0.0153762 , 0.29203984, ..., 1.        , 0.00640406,\n",
       "        0.01013668],\n",
       "       [0.032107  , 0.00830409, 0.00817315, ..., 0.00640406, 1.        ,\n",
       "        0.02495407],\n",
       "       [0.01722649, 0.00436921, 0.00712422, ..., 0.01013668, 0.02495407,\n",
       "        1.        ]])"
      ]
     },
     "execution_count": 19,
     "metadata": {},
     "output_type": "execute_result"
    }
   ],
   "source": [
    "K"
   ]
  },
  {
   "cell_type": "markdown",
   "metadata": {},
   "source": [
    "Check that you used the function correctly by writing code to confirm that `K = K1`, or at least that the two are equal up to very small differences (which could arise due to numerical precision issues). Try to do this **without a for loop** for full credit. You will get partial credit if you use a for loop."
   ]
  },
  {
   "cell_type": "code",
   "execution_count": 17,
   "metadata": {},
   "outputs": [],
   "source": [
    "# TODO"
   ]
  },
  {
   "cell_type": "code",
   "execution_count": 18,
   "metadata": {},
   "outputs": [
    {
     "data": {
      "text/plain": [
       "1.454392162258955e-14"
      ]
     },
     "execution_count": 18,
     "metadata": {},
     "output_type": "execute_result"
    }
   ],
   "source": [
    "np.max(np.abs(K1 - K))"
   ]
  },
  {
   "cell_type": "markdown",
   "metadata": {},
   "source": [
    "When using a non-linear kernel, it is important to check that you have chosen reasonable parameters (in our case the only parameter is `gamma`). We typically do not want $k(\\vec{x}_i,\\vec{x}_j)$ to be either negligably small, or very large for all $i\\neq j$ in our data set, or we won't be able to learn anything. For the RBF kernel this means that, for any $\\vec{x}_i$ we don't want $k(\\vec{x}_i,\\vec{x}_j)$ very close to 1 (e.g. .9999) for all $j$, or very close to $0$ (e.g. 1e-8) for all $j$. \n",
    "\n",
    "Let's just check that we're in good shape for the first data vector $\\vec{x}_0$. Do so by printing out the 10 largest and 10 smallest values of $k(\\vec{x}_0,\\vec{x}_j)$ for $j\\neq 0$. Note that we always have $k(\\vec{x}_0,\\vec{x}_0) = 1$ for the RBF kernel. "
   ]
  },
  {
   "cell_type": "code",
   "execution_count": 19,
   "metadata": {},
   "outputs": [],
   "source": [
    "# TODO\n",
    "# print('Maximum similarities: \\n' + ...)\n",
    "# print('Minimum similarities: \\n' + ...)"
   ]
  },
  {
   "cell_type": "code",
   "execution_count": 20,
   "metadata": {},
   "outputs": [
    {
     "name": "stdout",
     "output_type": "stream",
     "text": [
      "Maximum similarities: \n",
      "[0.0897446  0.08873529 0.0817648  0.07835792 0.07816192 0.07691732\n",
      " 0.07577733 0.07401104 0.07396206 0.07301938]\n",
      "Minimum similarities: \n",
      "[0.00030576 0.00029968 0.00025396 0.00025231 0.00024373 0.00019725\n",
      " 0.0001864  0.00016595 0.00012163 0.00010669]\n"
     ]
    }
   ],
   "source": [
    "vals = np.flip(np.sort(K[0,:]))\n",
    "print('Maximum similarities: \\n' + str(vals[2:12]))\n",
    "print('Minimum similarities: \\n' + str(vals[-10:]))"
   ]
  },
  {
   "cell_type": "markdown",
   "metadata": {},
   "source": [
    "### Implementation\n",
    "Maybe surprisingly Scikit learn does not have an implementation for kernel logistic regression. To save time, I have implemented my own version for binary classification which uses gradient descent as the optimizer. The function `log_fit` minimizes the $\\ell_2$-regularized logisitic regression loss:\n",
    "$$\n",
    "L(\\vec{\\alpha}) =\\sum_{i=1}^n (1-y_i)(\\phi(\\vec{x}_i)^T\\phi(\\mathbf{X})^T\\vec{\\alpha}) - \\log(h_{\\phi(\\mathbf{X})^T\\vec{\\alpha}}(\\phi(\\vec{x}_i)) + \\lambda \\|\\phi(\\vec{X})^T\\vec{\\alpha}\\|_2^2.\n",
    "$$\n",
    "As input it takes an $n\\times n$ kernel matrix $K$ for the training data, an $n$ length vector `y` of binary class labels, and regularization parameter `lamb`.\n",
    "\n",
    "**Note:** The version of `grad_opt_adapt` below incorperates a simple automatic stopping rule, which means it will terminate before `nit` if the algorithm seems to have converged."
   ]
  },
  {
   "cell_type": "code",
   "execution_count": 21,
   "metadata": {},
   "outputs": [],
   "source": [
    "def grad_opt_adapt(grad_func, beta0, nit=5000, lr_init=1e-3):\n",
    "    beta = beta0\n",
    "    lr = lr_init\n",
    "    L,Lgrad = grad_func(beta0)\n",
    "    for it in range(nit):\n",
    "        beta1 = beta - lr*Lgrad\n",
    "        L1, Lgrad1 = grad_func(beta1)\n",
    "        df_est = Lgrad.T@(beta1-beta)\n",
    "        alpha = 0.5\n",
    "        if (L1-L < alpha*df_est) and (L1 < L):\n",
    "            lr = lr*2\n",
    "            L = L1\n",
    "            Lgrad = Lgrad1\n",
    "            beta = beta1\n",
    "        else:\n",
    "            lr = lr/2 \n",
    "        if (lr < 1e-15):\n",
    "            break;\n",
    "    return beta\n",
    "\n",
    "# note that I'm taking a slightly different approach here to what we did in `lab_grad_descent`.\n",
    "# happy discuss if there are any questions. The approach here will lead to faster convergence.\n",
    "def kernel_grad(alpha,K,y,lamb):\n",
    "    z = K@alpha\n",
    "    h = 1/(1+np.exp(-z))\n",
    "    L = np.sum((1-y)*z - np.log(h)) + lamb*np.sum(z*alpha)\n",
    "\n",
    "    # Gradient\n",
    "    Lgrad = (h-y) + 2*lamb*alpha\n",
    "    return L, Lgrad\n",
    "\n",
    "def log_fit(K,y,lamb,nit=1000):\n",
    "    \"\"\"\n",
    "    Function which minizes the logistic regression loss \n",
    "    \"\"\"\n",
    "    kernel_grad_eval = lambda alpha: kernel_grad(alpha,K,y,lamb)\n",
    "    alpha0 = np.zeros(K.shape[0])\n",
    "    alpha = grad_opt_adapt(kernel_grad_eval, alpha0, nit=nit, lr_init=1e-5)\n",
    "    return alpha"
   ]
  },
  {
   "cell_type": "markdown",
   "metadata": {},
   "source": [
    "Use the `log_fit` function defined above to find parameters `alpha` for the kernel logistic regression model using `lamb = 0` and `K` as constructed above (with `gamma = .05`). You can use the default of 5000 maximum iterations."
   ]
  },
  {
   "cell_type": "code",
   "execution_count": 22,
   "metadata": {},
   "outputs": [],
   "source": [
    "# TODO\n",
    "# alpha = "
   ]
  },
  {
   "cell_type": "code",
   "execution_count": 23,
   "metadata": {
    "scrolled": true
   },
   "outputs": [],
   "source": [
    "nit = 5000\n",
    "lamb = 0\n",
    "gam = .05\n",
    "K = pairwise_kernels(Xtr1,Xtr1,metric='rbf', gamma=gam)\n",
    "alpha = log_fit(K,ytr8,lamb,nit=nit)"
   ]
  },
  {
   "cell_type": "markdown",
   "metadata": {},
   "source": [
    "Suppose we have a test dataset with $m$ examples $\\vec{w}_1,\\ldots, \\vec{w}_m$. Once we obtain a coefficient vector $\\alpha$, making predictions for any $\\vec{w}_j$ in the test set requires computing:\n",
    "$$\n",
    "{y}_{j} = \\sum_{i=1}^n \\alpha_i \\cdot k(\\vec{w}_{j}, \\vec{x}_i).\n",
    "$$\n",
    "where $\\vec{x}_1, \\ldots \\vec{x}_n$ are our training data vectors. We classify $\\vec{w}_{j}$ in class 0 if ${y}_{j} \\leq 0$ and in class 1 if ${y}_{j} > 0$. \n",
    "\n",
    "This computation can be rewritten in matrix form as follows:\n",
    "$$\n",
    "\\vec{y}_{test} = K_{test}\\vec{\\alpha}, \n",
    "$$\n",
    "where $\\vec{y}_{text}$ is an $m$ length vector and $K_{test}$ is a $m\\times n$ matrix whose $(j,i)$ entry is equal to $k(\\vec{w}_{j}, \\vec{x}_i)$. We classify $\\vec{w}_{j}$ in class 0 if $\\vec{y}_{test}[j] \\leq 0$ and in class 1 if $\\vec{y}_{test}[j] > 0$. \n"
   ]
  },
  {
   "cell_type": "markdown",
   "metadata": {},
   "source": [
    "Use the `pairwise_kernels` function to construct $K_{test}$. Then make predictions for the test set and evaluate the accuracy of our kernel logistic regression classifier. You should see a pretty substantial lift in accuracy to around $97\\%$"
   ]
  },
  {
   "cell_type": "code",
   "execution_count": 24,
   "metadata": {},
   "outputs": [],
   "source": [
    "# TODO \n",
    "# Ktest = ..."
   ]
  },
  {
   "cell_type": "code",
   "execution_count": 25,
   "metadata": {},
   "outputs": [],
   "source": [
    "# TODO\n",
    "# yhat = ... (vector containing predicted 0,1 labels)\n",
    "# acc = np.mean(yhat == yts8)\n",
    "# print(\"Test accuracy = %f\" % acc)"
   ]
  },
  {
   "cell_type": "code",
   "execution_count": 26,
   "metadata": {},
   "outputs": [
    {
     "name": "stdout",
     "output_type": "stream",
     "text": [
      "Test accuracy = 0.972000\n"
     ]
    }
   ],
   "source": [
    "Ktest = pairwise_kernels(Xts1,Xtr1,metric='rbf', gamma=gam)\n",
    "yhat = (Ktest@alpha > 0)\n",
    "acc = np.mean(yhat == yts8)\n",
    "print(\"Test accuracy = %f\" % acc)"
   ]
  },
  {
   "cell_type": "markdown",
   "metadata": {},
   "source": [
    "## Kernel Support Vector Machine"
   ]
  },
  {
   "cell_type": "markdown",
   "metadata": {},
   "source": [
    "The goal of this lab is to compare Kernel Logistic Regression to Kernel Support Vector machines. Following `demo_mnist_svm.ipynb` implement an SVM classifier using an RBF kernel with `gamma = .05` (the same value we used for logistic regression aboe). Use margin parameter `C = 10`."
   ]
  },
  {
   "cell_type": "code",
   "execution_count": 27,
   "metadata": {},
   "outputs": [],
   "source": [
    "# TODO"
   ]
  },
  {
   "cell_type": "code",
   "execution_count": 28,
   "metadata": {},
   "outputs": [
    {
     "name": "stdout",
     "output_type": "stream",
     "text": [
      "[LibSVM]"
     ]
    },
    {
     "data": {
      "text/plain": [
       "SVC(C=1, cache_size=200, class_weight=None, coef0=0.0,\n",
       "    decision_function_shape='ovr', degree=3, gamma=0.05, kernel='rbf',\n",
       "    max_iter=-1, probability=False, random_state=None, shrinking=True,\n",
       "    tol=0.001, verbose=10)"
      ]
     },
     "execution_count": 28,
     "metadata": {},
     "output_type": "execute_result"
    }
   ],
   "source": [
    "svc = svm.SVC(probability=False,  kernel=\"rbf\", C=1, gamma=.05,verbose=10)\n",
    "svc.fit(Xtr1,ytr8)"
   ]
  },
  {
   "cell_type": "markdown",
   "metadata": {},
   "source": [
    "Calculate and print the accuracy of the SVM classifier. You should obtain a similar result as for logistic regression: something close to $97\\%$ accuracy. "
   ]
  },
  {
   "cell_type": "code",
   "execution_count": 29,
   "metadata": {},
   "outputs": [],
   "source": [
    "# TODO\n",
    "# ysvm = ... (vector containing predicted 0,1 labels)\n",
    "# acc = np.mean(yhat == yts8)\n",
    "# print(\"Test accuracy = %f\" % acc)"
   ]
  },
  {
   "cell_type": "code",
   "execution_count": 30,
   "metadata": {},
   "outputs": [],
   "source": [
    "ysvm = svc.predict(Xts1)"
   ]
  },
  {
   "cell_type": "code",
   "execution_count": 31,
   "metadata": {
    "scrolled": true
   },
   "outputs": [
    {
     "name": "stdout",
     "output_type": "stream",
     "text": [
      "Test accuracy = 0.964500\n"
     ]
    }
   ],
   "source": [
    "acc = np.mean(ysvm == yts8)\n",
    "print(\"Test accuracy = %f\" % acc)"
   ]
  },
  {
   "cell_type": "markdown",
   "metadata": {},
   "source": [
    "## The Showdown \n",
    "\n",
    "Both SVM classifiers and kernel logisitic regression require tuning parameters to obtain the best possible result. In our setting we will stick with an RBF kernel (although this could be tuned). So we only consider tuning the kernel width parameter `gamma`, as well as the regularization parameter `lamb` for logistic regression, and the margin parameter `C` for SVM. We will choose parameters using for-loops and train-test cross validation."
   ]
  },
  {
   "cell_type": "markdown",
   "metadata": {},
   "source": [
    "Train a logistic regression classifier with **all combinations** of the parameters included below in vectors `gamma` and `lamb`. For each setting of parameters, compute and print:\n",
    "* the test error obtained\n",
    "* the total runtime of classification in seconds (including training time and prediction time)\n",
    "\n",
    "For computing runtime you might want to use the `time()` function from the `time` library, which we already imported ealier. "
   ]
  },
  {
   "cell_type": "code",
   "execution_count": 32,
   "metadata": {},
   "outputs": [],
   "source": [
    "gamma = [.1, .05,.02,.01,.005]\n",
    "lamb = [0,1e-6,1e-4,1e-2]\n",
    "# TODO\n",
    "# ..."
   ]
  },
  {
   "cell_type": "code",
   "execution_count": 33,
   "metadata": {
    "scrolled": true
   },
   "outputs": [
    {
     "name": "stdout",
     "output_type": "stream",
     "text": [
      "gamma = 0.1, lamb = 0, Test accuracy = 0.960000, Runtime (sec.):  = 2.409830\n",
      "gamma = 0.1, lamb = 1e-06, Test accuracy = 0.959750, Runtime (sec.):  = 3.509907\n",
      "gamma = 0.1, lamb = 0.0001, Test accuracy = 0.959000, Runtime (sec.):  = 3.074915\n",
      "gamma = 0.1, lamb = 0.01, Test accuracy = 0.956750, Runtime (sec.):  = 2.197797\n",
      "gamma = 0.05, lamb = 0, Test accuracy = 0.972000, Runtime (sec.):  = 4.696606\n",
      "gamma = 0.05, lamb = 1e-06, Test accuracy = 0.969750, Runtime (sec.):  = 8.646823\n",
      "gamma = 0.05, lamb = 0.0001, Test accuracy = 0.968500, Runtime (sec.):  = 7.613411\n",
      "gamma = 0.05, lamb = 0.01, Test accuracy = 0.965000, Runtime (sec.):  = 5.619505\n",
      "gamma = 0.02, lamb = 0, Test accuracy = 0.978750, Runtime (sec.):  = 12.071342\n",
      "gamma = 0.02, lamb = 1e-06, Test accuracy = 0.979250, Runtime (sec.):  = 11.943973\n",
      "gamma = 0.02, lamb = 0.0001, Test accuracy = 0.977750, Runtime (sec.):  = 9.488585\n",
      "gamma = 0.02, lamb = 0.01, Test accuracy = 0.973500, Runtime (sec.):  = 5.970504\n",
      "gamma = 0.01, lamb = 0, Test accuracy = 0.967750, Runtime (sec.):  = 5.212250\n",
      "gamma = 0.01, lamb = 1e-06, Test accuracy = 0.967750, Runtime (sec.):  = 5.850963\n",
      "gamma = 0.01, lamb = 0.0001, Test accuracy = 0.967750, Runtime (sec.):  = 5.708907\n",
      "gamma = 0.01, lamb = 0.01, Test accuracy = 0.966250, Runtime (sec.):  = 5.203426\n",
      "gamma = 0.005, lamb = 0, Test accuracy = 0.953500, Runtime (sec.):  = 4.995002\n",
      "gamma = 0.005, lamb = 1e-06, Test accuracy = 0.953500, Runtime (sec.):  = 4.804560\n",
      "gamma = 0.005, lamb = 0.0001, Test accuracy = 0.953500, Runtime (sec.):  = 5.326519\n",
      "gamma = 0.005, lamb = 0.01, Test accuracy = 0.953250, Runtime (sec.):  = 5.280689\n"
     ]
    }
   ],
   "source": [
    "gamma = [.1, .05,.02,.01,.005]\n",
    "lamb = [0,1e-6,1e-4,1e-2]\n",
    "for g in gamma: \n",
    "    for l in lamb:\n",
    "        t = time.time()\n",
    "        \n",
    "        K = pairwise_kernels(Xtr1, Xtr1, metric='rbf', gamma=g)\n",
    "        Ktest = pairwise_kernels(Xts1,Xtr1,metric='rbf', gamma=g)\n",
    "        alpha = log_fit(K,ytr8,l)\n",
    "        yhat = (Ktest@alpha > 0)\n",
    "        acc = np.mean(yhat == yts8)\n",
    "        \n",
    "        elapsed = time.time() - t\n",
    "        print(\"gamma = \" + str(g) + \", lamb = \" + str(l) + \", Test accuracy = %f\" % acc + \", Runtime (sec.):  = %f\" % elapsed)\n"
   ]
  },
  {
   "cell_type": "markdown",
   "metadata": {},
   "source": [
    "TODO: What was the best test error achieved, and what setting of parameters achieved this error? Was the kernel logistic regression classifier more sensitive to changes in `gamma` or `lamb`? Discuss in 1-3 short sentences below."
   ]
  },
  {
   "cell_type": "markdown",
   "metadata": {},
   "source": [
    "Now let's do the same thing for the kernel Support Vector Classifier. Train an SVM classifier with **all combinations** of the parameters included below in vectors `gamma` and `C`. For each setting of parameters, compute:\n",
    "* the test error obtained\n",
    "* the total runtime of classification in seconds (including training time and prediction time)"
   ]
  },
  {
   "cell_type": "code",
   "execution_count": 34,
   "metadata": {},
   "outputs": [],
   "source": [
    "gamma = [.1, .05,.02,.01,.005]\n",
    "C = [.01,.1,1,10]\n",
    "# TODO\n",
    "# ..."
   ]
  },
  {
   "cell_type": "code",
   "execution_count": 35,
   "metadata": {},
   "outputs": [
    {
     "name": "stdout",
     "output_type": "stream",
     "text": [
      "[LibSVM]gamma = 0.1, C = 1, Test accuracy = 0.914500, Runtime (sec.):  = 47.863558\n",
      "[LibSVM]gamma = 0.1, C = 10, Test accuracy = 0.920000, Runtime (sec.):  = 49.278915\n",
      "[LibSVM]gamma = 0.1, C = 100, Test accuracy = 0.920000, Runtime (sec.):  = 47.700934\n",
      "[LibSVM]gamma = 0.1, C = 1000, Test accuracy = 0.920000, Runtime (sec.):  = 47.502115\n",
      "[LibSVM]gamma = 0.05, C = 1, Test accuracy = 0.964500, Runtime (sec.):  = 22.384640\n",
      "[LibSVM]gamma = 0.05, C = 10, Test accuracy = 0.967250, Runtime (sec.):  = 23.150993\n",
      "[LibSVM]gamma = 0.05, C = 100, Test accuracy = 0.967250, Runtime (sec.):  = 23.950929\n",
      "[LibSVM]gamma = 0.05, C = 1000, Test accuracy = 0.967250, Runtime (sec.):  = 25.652432\n",
      "[LibSVM]gamma = 0.02, C = 1, Test accuracy = 0.975500, Runtime (sec.):  = 8.616884\n",
      "[LibSVM]gamma = 0.02, C = 10, Test accuracy = 0.981250, Runtime (sec.):  = 8.712702\n",
      "[LibSVM]gamma = 0.02, C = 100, Test accuracy = 0.981250, Runtime (sec.):  = 9.241241\n",
      "[LibSVM]gamma = 0.02, C = 1000, Test accuracy = 0.981250, Runtime (sec.):  = 9.512850\n",
      "[LibSVM]gamma = 0.01, C = 1, Test accuracy = 0.970750, Runtime (sec.):  = 7.157143\n",
      "[LibSVM]gamma = 0.01, C = 10, Test accuracy = 0.980750, Runtime (sec.):  = 6.809170\n",
      "[LibSVM]gamma = 0.01, C = 100, Test accuracy = 0.982000, Runtime (sec.):  = 6.947411\n",
      "[LibSVM]gamma = 0.01, C = 1000, Test accuracy = 0.982000, Runtime (sec.):  = 7.719091\n",
      "[LibSVM]gamma = 0.005, C = 1, Test accuracy = 0.959500, Runtime (sec.):  = 7.669323\n",
      "[LibSVM]gamma = 0.005, C = 10, Test accuracy = 0.976250, Runtime (sec.):  = 6.339584\n",
      "[LibSVM]gamma = 0.005, C = 100, Test accuracy = 0.978500, Runtime (sec.):  = 6.510553\n",
      "[LibSVM]gamma = 0.005, C = 1000, Test accuracy = 0.978500, Runtime (sec.):  = 6.484475\n"
     ]
    }
   ],
   "source": [
    "gamma = [.1, .05,.02,.01,.005]\n",
    "C = [1,10,100,1000]\n",
    "for g in gamma: \n",
    "    for c in C:\n",
    "        t = time.time()\n",
    "        \n",
    "        svc = svm.SVC(probability=False,  kernel=\"rbf\", C=c, gamma=g,verbose=10)\n",
    "        svc.fit(Xtr1,ytr8)\n",
    "        ysvm = svc.predict(Xts1)\n",
    "        acc = np.mean(ysvm == yts8)\n",
    "\n",
    "        elapsed = time.time() - t\n",
    "        print(\"gamma = \" + str(g) + \", C = \" + str(c) + \", Test accuracy = %f\" % acc + \", Runtime (sec.):  = %f\" % elapsed)"
   ]
  },
  {
   "cell_type": "markdown",
   "metadata": {},
   "source": [
    "TODO: What was the best test error achieved, and what setting of parameters achieved this error? Which performed better in terms of accuracy, the SVM or logisitic regression classifier? How about in terms of runtime?"
   ]
  },
  {
   "cell_type": "markdown",
   "metadata": {},
   "source": [
    "**NOTE:** For `sklearns`'s built in classifiers, including svm.SVC, there is a function called `GridSearchCV` which can automatically perform hyperparamater tuning for you. The main advantage of the method (as opposed to writing for-loops) is that it supports parallelization, so it can fit with different parameters at the same time. The function also supports automatic $k$-fold cross-validation (instead of simple train/test split). \n",
    "\n",
    "You might be interested in using this function for your projects. If so, please check out the tutorial in the following lab from last year: https://github.com/sdrangan/introml/blob/master/unit08_svm/lab_emnist_partial.ipynb."
   ]
  },
  {
   "cell_type": "markdown",
   "metadata": {},
   "source": [
    "**20% extra credit:** Find a choice of kernel function (not necessarily Gaussian) and hyperparameters which improves on your best results above by $.5\\%$ in test accuracy (for either logistic regression or SVM). You are also free to change the regularization for logistic regression (e.g. to $\\ell_1$ regularization), although this will require changing the optimization function. Partial extra credit will be given for small improvements. Report the kernel and hyperparameters used, and compute test accuracy to show your results."
   ]
  }
 ],
 "metadata": {
  "anaconda-cloud": {},
  "kernelspec": {
   "display_name": "Python 3",
   "language": "python",
   "name": "python3"
  },
  "language_info": {
   "codemirror_mode": {
    "name": "ipython",
    "version": 3
   },
   "file_extension": ".py",
   "mimetype": "text/x-python",
   "name": "python",
   "nbconvert_exporter": "python",
   "pygments_lexer": "ipython3",
   "version": "3.7.4"
  }
 },
 "nbformat": 4,
 "nbformat_minor": 1
}
