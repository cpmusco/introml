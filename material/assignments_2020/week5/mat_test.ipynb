{
 "cells": [
  {
   "cell_type": "code",
   "execution_count": 1,
   "metadata": {},
   "outputs": [],
   "source": [
    "import numpy as np\n",
    "import time"
   ]
  },
  {
   "cell_type": "code",
   "execution_count": 2,
   "metadata": {},
   "outputs": [],
   "source": [
    "n = 10000\n",
    "d = 10000\n",
    "X = np.random.randn(n,d)\n",
    "Y = np.zeros(X.shape)"
   ]
  },
  {
   "cell_type": "code",
   "execution_count": 3,
   "metadata": {},
   "outputs": [
    {
     "name": "stdout",
     "output_type": "stream",
     "text": [
      "75.23580312728882 seconds\n"
     ]
    }
   ],
   "source": [
    "t = time.time()\n",
    "for i in range(1,n):\n",
    "    for j in range(1,d):\n",
    "        Y[i,j] = 2*X[i,j]\n",
    "elapsed = time.time() - t\n",
    "print(str(elapsed) + \" seconds\")"
   ]
  },
  {
   "cell_type": "code",
   "execution_count": 4,
   "metadata": {},
   "outputs": [
    {
     "name": "stdout",
     "output_type": "stream",
     "text": [
      "0.20938587188720703 seconds\n"
     ]
    }
   ],
   "source": [
    "t = time.time()\n",
    "Y = 2*X\n",
    "elapsed = time.time() - t\n",
    "print(str(elapsed) + \" seconds\")"
   ]
  }
 ],
 "metadata": {
  "kernelspec": {
   "display_name": "Python 3",
   "language": "python",
   "name": "python3"
  },
  "language_info": {
   "codemirror_mode": {
    "name": "ipython",
    "version": 3
   },
   "file_extension": ".py",
   "mimetype": "text/x-python",
   "name": "python",
   "nbconvert_exporter": "python",
   "pygments_lexer": "ipython3",
   "version": "3.7.4"
  }
 },
 "nbformat": 4,
 "nbformat_minor": 2
}
