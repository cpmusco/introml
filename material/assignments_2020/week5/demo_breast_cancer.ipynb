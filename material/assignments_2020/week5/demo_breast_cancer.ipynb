{
 "cells": [
  {
   "cell_type": "markdown",
   "metadata": {},
   "source": [
    "#  Breast Cancer Diagnosis via Logistic Regression"
   ]
  },
  {
   "cell_type": "markdown",
   "metadata": {},
   "source": [
    "In this demo, we will see how to visualize training data for classification and perform logistic regression.  As an example, we will use a widely-used breast cancer data set.  This data set is described here:\n",
    "\n",
    "https://archive.ics.uci.edu/ml/datasets/breast+cancer+wisconsin+(original) \n",
    "\n",
    "and the original paper studying it can be found at https://www.ncbi.nlm.nih.gov/pmc/articles/PMC55130/.\n",
    "\n",
    "Each sample is a collection of features that were manually recorded by a physician upon inspecting a sample of cells from a fine needle aspiration (FNA) biopsy of breast tissue.  The features are scores from 1-10 descring certain aspects of the appearance of cells in the biopsy under microscope. The goal is to detect if the cells are benign or malignant."
   ]
  },
  {
   "cell_type": "markdown",
   "metadata": {},
   "source": [
    "## Loading and Visualizing the Data\n",
    "\n",
    "We first load the packages as usual."
   ]
  },
  {
   "cell_type": "code",
   "execution_count": 1,
   "metadata": {},
   "outputs": [],
   "source": [
    "import numpy as np\n",
    "import matplotlib\n",
    "import matplotlib.pyplot as plt\n",
    "import pandas as pd\n",
    "from sklearn import datasets, linear_model, preprocessing\n",
    "%matplotlib inline"
   ]
  },
  {
   "cell_type": "markdown",
   "metadata": {},
   "source": [
    "Next, we load the data.  It is important to remove the missing values with `dropna`."
   ]
  },
  {
   "cell_type": "code",
   "execution_count": 2,
   "metadata": {},
   "outputs": [
    {
     "data": {
      "text/html": [
       "<div>\n",
       "<style scoped>\n",
       "    .dataframe tbody tr th:only-of-type {\n",
       "        vertical-align: middle;\n",
       "    }\n",
       "\n",
       "    .dataframe tbody tr th {\n",
       "        vertical-align: top;\n",
       "    }\n",
       "\n",
       "    .dataframe thead th {\n",
       "        text-align: right;\n",
       "    }\n",
       "</style>\n",
       "<table border=\"1\" class=\"dataframe\">\n",
       "  <thead>\n",
       "    <tr style=\"text-align: right;\">\n",
       "      <th></th>\n",
       "      <th>id</th>\n",
       "      <th>thick</th>\n",
       "      <th>size_unif</th>\n",
       "      <th>shape_unif</th>\n",
       "      <th>marg</th>\n",
       "      <th>cell_size</th>\n",
       "      <th>bare</th>\n",
       "      <th>chrom</th>\n",
       "      <th>normal</th>\n",
       "      <th>mit</th>\n",
       "      <th>class</th>\n",
       "    </tr>\n",
       "  </thead>\n",
       "  <tbody>\n",
       "    <tr>\n",
       "      <td>0</td>\n",
       "      <td>1000025</td>\n",
       "      <td>5</td>\n",
       "      <td>1</td>\n",
       "      <td>1</td>\n",
       "      <td>1</td>\n",
       "      <td>2</td>\n",
       "      <td>1.0</td>\n",
       "      <td>3</td>\n",
       "      <td>1</td>\n",
       "      <td>1</td>\n",
       "      <td>2</td>\n",
       "    </tr>\n",
       "    <tr>\n",
       "      <td>1</td>\n",
       "      <td>1002945</td>\n",
       "      <td>5</td>\n",
       "      <td>4</td>\n",
       "      <td>4</td>\n",
       "      <td>5</td>\n",
       "      <td>7</td>\n",
       "      <td>10.0</td>\n",
       "      <td>3</td>\n",
       "      <td>2</td>\n",
       "      <td>1</td>\n",
       "      <td>2</td>\n",
       "    </tr>\n",
       "    <tr>\n",
       "      <td>2</td>\n",
       "      <td>1015425</td>\n",
       "      <td>3</td>\n",
       "      <td>1</td>\n",
       "      <td>1</td>\n",
       "      <td>1</td>\n",
       "      <td>2</td>\n",
       "      <td>2.0</td>\n",
       "      <td>3</td>\n",
       "      <td>1</td>\n",
       "      <td>1</td>\n",
       "      <td>2</td>\n",
       "    </tr>\n",
       "    <tr>\n",
       "      <td>3</td>\n",
       "      <td>1016277</td>\n",
       "      <td>6</td>\n",
       "      <td>8</td>\n",
       "      <td>8</td>\n",
       "      <td>1</td>\n",
       "      <td>3</td>\n",
       "      <td>4.0</td>\n",
       "      <td>3</td>\n",
       "      <td>7</td>\n",
       "      <td>1</td>\n",
       "      <td>2</td>\n",
       "    </tr>\n",
       "    <tr>\n",
       "      <td>4</td>\n",
       "      <td>1017023</td>\n",
       "      <td>4</td>\n",
       "      <td>1</td>\n",
       "      <td>1</td>\n",
       "      <td>3</td>\n",
       "      <td>2</td>\n",
       "      <td>1.0</td>\n",
       "      <td>3</td>\n",
       "      <td>1</td>\n",
       "      <td>1</td>\n",
       "      <td>2</td>\n",
       "    </tr>\n",
       "    <tr>\n",
       "      <td>...</td>\n",
       "      <td>...</td>\n",
       "      <td>...</td>\n",
       "      <td>...</td>\n",
       "      <td>...</td>\n",
       "      <td>...</td>\n",
       "      <td>...</td>\n",
       "      <td>...</td>\n",
       "      <td>...</td>\n",
       "      <td>...</td>\n",
       "      <td>...</td>\n",
       "      <td>...</td>\n",
       "    </tr>\n",
       "    <tr>\n",
       "      <td>694</td>\n",
       "      <td>776715</td>\n",
       "      <td>3</td>\n",
       "      <td>1</td>\n",
       "      <td>1</td>\n",
       "      <td>1</td>\n",
       "      <td>3</td>\n",
       "      <td>2.0</td>\n",
       "      <td>1</td>\n",
       "      <td>1</td>\n",
       "      <td>1</td>\n",
       "      <td>2</td>\n",
       "    </tr>\n",
       "    <tr>\n",
       "      <td>695</td>\n",
       "      <td>841769</td>\n",
       "      <td>2</td>\n",
       "      <td>1</td>\n",
       "      <td>1</td>\n",
       "      <td>1</td>\n",
       "      <td>2</td>\n",
       "      <td>1.0</td>\n",
       "      <td>1</td>\n",
       "      <td>1</td>\n",
       "      <td>1</td>\n",
       "      <td>2</td>\n",
       "    </tr>\n",
       "    <tr>\n",
       "      <td>696</td>\n",
       "      <td>888820</td>\n",
       "      <td>5</td>\n",
       "      <td>10</td>\n",
       "      <td>10</td>\n",
       "      <td>3</td>\n",
       "      <td>7</td>\n",
       "      <td>3.0</td>\n",
       "      <td>8</td>\n",
       "      <td>10</td>\n",
       "      <td>2</td>\n",
       "      <td>4</td>\n",
       "    </tr>\n",
       "    <tr>\n",
       "      <td>697</td>\n",
       "      <td>897471</td>\n",
       "      <td>4</td>\n",
       "      <td>8</td>\n",
       "      <td>6</td>\n",
       "      <td>4</td>\n",
       "      <td>3</td>\n",
       "      <td>4.0</td>\n",
       "      <td>10</td>\n",
       "      <td>6</td>\n",
       "      <td>1</td>\n",
       "      <td>4</td>\n",
       "    </tr>\n",
       "    <tr>\n",
       "      <td>698</td>\n",
       "      <td>897471</td>\n",
       "      <td>4</td>\n",
       "      <td>8</td>\n",
       "      <td>8</td>\n",
       "      <td>5</td>\n",
       "      <td>4</td>\n",
       "      <td>5.0</td>\n",
       "      <td>10</td>\n",
       "      <td>4</td>\n",
       "      <td>1</td>\n",
       "      <td>4</td>\n",
       "    </tr>\n",
       "  </tbody>\n",
       "</table>\n",
       "<p>683 rows × 11 columns</p>\n",
       "</div>"
      ],
      "text/plain": [
       "          id  thick  size_unif  shape_unif  marg  cell_size  bare  chrom  \\\n",
       "0    1000025      5          1           1     1          2   1.0      3   \n",
       "1    1002945      5          4           4     5          7  10.0      3   \n",
       "2    1015425      3          1           1     1          2   2.0      3   \n",
       "3    1016277      6          8           8     1          3   4.0      3   \n",
       "4    1017023      4          1           1     3          2   1.0      3   \n",
       "..       ...    ...        ...         ...   ...        ...   ...    ...   \n",
       "694   776715      3          1           1     1          3   2.0      1   \n",
       "695   841769      2          1           1     1          2   1.0      1   \n",
       "696   888820      5         10          10     3          7   3.0      8   \n",
       "697   897471      4          8           6     4          3   4.0     10   \n",
       "698   897471      4          8           8     5          4   5.0     10   \n",
       "\n",
       "     normal  mit  class  \n",
       "0         1    1      2  \n",
       "1         2    1      2  \n",
       "2         1    1      2  \n",
       "3         7    1      2  \n",
       "4         1    1      2  \n",
       "..      ...  ...    ...  \n",
       "694       1    1      2  \n",
       "695       1    1      2  \n",
       "696      10    2      4  \n",
       "697       6    1      4  \n",
       "698       4    1      4  \n",
       "\n",
       "[683 rows x 11 columns]"
      ]
     },
     "execution_count": 2,
     "metadata": {},
     "output_type": "execute_result"
    }
   ],
   "source": [
    "names = ['id','thick','size_unif','shape_unif','marg','cell_size','bare',\n",
    "         'chrom','normal','mit','class']\n",
    "df = pd.read_csv('https://archive.ics.uci.edu/ml/machine-learning-databases/' +\n",
    "                 'breast-cancer-wisconsin/breast-cancer-wisconsin.data',\n",
    "                names=names,na_values='?',header=None)\n",
    "df = df.dropna()\n",
    "df"
   ]
  },
  {
   "cell_type": "markdown",
   "metadata": {},
   "source": [
    "After loading the data, we can create a scatter plot of the data labeling the class values with different colors.  We will pick two of the features.  "
   ]
  },
  {
   "cell_type": "code",
   "execution_count": 3,
   "metadata": {
    "scrolled": true
   },
   "outputs": [
    {
     "data": {
      "text/plain": [
       "<matplotlib.legend.Legend at 0x1a1ceb44d0>"
      ]
     },
     "execution_count": 3,
     "metadata": {},
     "output_type": "execute_result"
    },
    {
     "data": {
      "image/png": "[encoded data removed]",
      "text/plain": [
       "<Figure size 432x288 with 1 Axes>"
      ]
     },
     "metadata": {
      "needs_background": "light"
     },
     "output_type": "display_data"
    }
   ],
   "source": [
    "# Get the response.  Convert to a zero-one indicator \n",
    "yraw = np.array(df['class'])\n",
    "BEN_VAL = 2   # value in the 'class' label for benign samples\n",
    "MAL_VAL = 4   # value in the 'class' label for malignant samples\n",
    "y = (yraw == MAL_VAL).astype(int) # now y has values of 0,1 \n",
    "Iben = (y==0)\n",
    "Imal = (y==1)\n",
    "\n",
    "# Get two predictors\n",
    "xnames =['size_unif','marg'] \n",
    "X = df[xnames].values\n",
    "\n",
    "# Create the scatter plot\n",
    "plt.plot(X[Imal,0],X[Imal,1],'b.')\n",
    "plt.plot(X[Iben,0],X[Iben,1],'g.')\n",
    "plt.xlabel(xnames[0], fontsize=16)\n",
    "plt.ylabel(xnames[1], fontsize=16)\n",
    "plt.ylim(0,14)\n",
    "plt.legend(['malign','benign'],loc='upper right')"
   ]
  },
  {
   "cell_type": "markdown",
   "metadata": {},
   "source": [
    "The above plot is not informative, since many of the points are on top of one another.  Thus, we cannot see the relative frequency of points.  \n",
    "\n",
    "One way to improve the plot is add \"jitter\" to the data. Just for visualization, we will add random noise to all of our X values, which has the effect of seperating points on the plot. Play around with the `var` parameter below to see how it changes things. \n",
    "\n",
    "We will re-use this code, so we define a function. "
   ]
  },
  {
   "cell_type": "code",
   "execution_count": 4,
   "metadata": {
    "scrolled": true
   },
   "outputs": [
    {
     "data": {
      "text/plain": [
       "<module 'matplotlib.pyplot' from '/opt/anaconda3/lib/python3.7/site-packages/matplotlib/pyplot.py'>"
      ]
     },
     "execution_count": 4,
     "metadata": {},
     "output_type": "execute_result"
    },
    {
     "data": {
      "image/png": "[encoded data removed]",
      "text/plain": [
       "<Figure size 432x288 with 1 Axes>"
      ]
     },
     "metadata": {
      "needs_background": "light"
     },
     "output_type": "display_data"
    }
   ],
   "source": [
    "def plot_cnt(X,y):\n",
    "    \n",
    "    # add random \"jitter\" to seperate points\n",
    "    var = .15;\n",
    "    Xj = X + var*np.random.randn(X.shape[0],X.shape[1]) \n",
    "\n",
    "    # Create the scatter plot\n",
    "    plt.plot(Xj[Imal,0],Xj[Imal,1],'b.')\n",
    "    plt.plot(Xj[Iben,0],Xj[Iben,1],'g.')\n",
    "    plt.xlabel(xnames[0], fontsize=16)\n",
    "    plt.ylabel(xnames[1], fontsize=16)\n",
    "    plt.ylim(0,14)\n",
    "    plt.legend(['malign','benign'],loc='upper right')\n",
    "    return plt\n",
    "\n",
    "plot_cnt(X,y)"
   ]
  },
  {
   "cell_type": "code",
   "execution_count": 5,
   "metadata": {},
   "outputs": [],
   "source": [
    "# TODO"
   ]
  },
  {
   "cell_type": "markdown",
   "metadata": {},
   "source": [
    "## Some Simple Classification ideas"
   ]
  },
  {
   "cell_type": "markdown",
   "metadata": {},
   "source": [
    "Here are some ideas for classification that you may have already thought of.  We can see that the benign samples are located in the lower left.  So, one simple classification rule is to define the region with a line.  We plot the region for one possible line with the following code."
   ]
  },
  {
   "cell_type": "code",
   "execution_count": 6,
   "metadata": {},
   "outputs": [
    {
     "data": {
      "text/plain": [
       "<matplotlib.patches.Polygon at 0x1a1e801f10>"
      ]
     },
     "execution_count": 6,
     "metadata": {},
     "output_type": "execute_result"
    },
    {
     "data": {
      "image/png": "[encoded data removed]",
      "text/plain": [
       "<Figure size 432x288 with 1 Axes>"
      ]
     },
     "metadata": {
      "needs_background": "light"
     },
     "output_type": "display_data"
    }
   ],
   "source": [
    "from matplotlib import patches\n",
    "plt = plot_cnt(X,y)\n",
    "\n",
    "ax = plt.gca() \n",
    "ax.add_patch(\n",
    "    patches.Polygon([[0,0],[0,14],[4.5,0]],\n",
    "        color='green',\n",
    "        fill=False, hatch = '//'\n",
    "    )\n",
    ")"
   ]
  },
  {
   "cell_type": "markdown",
   "metadata": {},
   "source": [
    "Here is an alternate classification rule based on two linear constraints."
   ]
  },
  {
   "cell_type": "code",
   "execution_count": 7,
   "metadata": {},
   "outputs": [
    {
     "data": {
      "text/plain": [
       "<matplotlib.patches.Rectangle at 0x1a1e852c50>"
      ]
     },
     "execution_count": 7,
     "metadata": {},
     "output_type": "execute_result"
    },
    {
     "data": {
      "image/png": "[encoded data removed]",
      "text/plain": [
       "<Figure size 432x288 with 1 Axes>"
      ]
     },
     "metadata": {
      "needs_background": "light"
     },
     "output_type": "display_data"
    }
   ],
   "source": [
    "plt = plot_cnt(X,y)\n",
    "ax = plt.gca()\n",
    "ax.add_patch(\n",
    "    patches.Rectangle(\n",
    "        (0, 0),   # (x,y)\n",
    "        width=4, height=6,  color='green',\n",
    "        fill=False, hatch = '//'\n",
    "    )\n",
    ")"
   ]
  },
  {
   "cell_type": "markdown",
   "metadata": {},
   "source": [
    "## Let us try to find the best linear classifier by using least squares regression!"
   ]
  },
  {
   "cell_type": "code",
   "execution_count": 8,
   "metadata": {},
   "outputs": [],
   "source": [
    "def fit_mult_linear(X,y):\n",
    "    Xa = np.concatenate((np.ones((X.shape[0],1)),X),axis=1)\n",
    "    Xat = np.transpose(Xa);\n",
    "    beta = np.linalg.inv(Xat@Xa)@Xat@y[:,None]\n",
    "    return beta"
   ]
  },
  {
   "cell_type": "code",
   "execution_count": 9,
   "metadata": {},
   "outputs": [
    {
     "name": "stdout",
     "output_type": "stream",
     "text": [
      "beta= [-0.08420067  0.10007944  0.04197521]\n"
     ]
    }
   ],
   "source": [
    "beta = fit_mult_linear(X,y)\n",
    "print('beta=',str(beta[:,0]))"
   ]
  },
  {
   "cell_type": "markdown",
   "metadata": {},
   "source": [
    "When classifiying using the learned linear function, a reasonable rule is to predict class `1` (malignant) for any example $\\vec{x} \\in \\mathbb{R}^2$ where $\\langle[1,\\vec{x}],\\beta\\rangle \\geq 1/2$ and class  `0` (benign) for any example $i$ where $\\langle[1,\\vec{x}],\\beta\\rangle < 1/2$.\n",
    "\n",
    "We can visualize this classification rule by plotting all values of $x_1$ and $x_2$  where $\\langle[1,\\vec{x}],\\beta\\rangle = 1/2$. I.e. solve for when $\\beta_0 + \\beta_1x_1 + \\beta_2x_2 = 1/2$. "
   ]
  },
  {
   "cell_type": "code",
   "execution_count": 10,
   "metadata": {},
   "outputs": [
    {
     "data": {
      "text/plain": [
       "[<matplotlib.lines.Line2D at 0x1a1ee0c450>]"
      ]
     },
     "execution_count": 10,
     "metadata": {},
     "output_type": "execute_result"
    },
    {
     "data": {
      "image/png": "[encoded data removed]",
      "text/plain": [
       "<Figure size 432x288 with 1 Axes>"
      ]
     },
     "metadata": {
      "needs_background": "light"
     },
     "output_type": "display_data"
    }
   ],
   "source": [
    "plt = plot_cnt(X,y)\n",
    "x1=np.zeros([11,1])\n",
    "x2=np.zeros([11,1])\n",
    "for i in range(11):\n",
    "    x1[i]=i;\n",
    "    x2[i]=(.5-beta[0]-beta[1]*i)/beta[2]\n",
    "    \n",
    "plt.plot(x1, x2)"
   ]
  },
  {
   "cell_type": "markdown",
   "metadata": {},
   "source": [
    "Let's check out accuracy on the training data by seeing what percentage of labels we got correctly"
   ]
  },
  {
   "cell_type": "code",
   "execution_count": 11,
   "metadata": {},
   "outputs": [
    {
     "name": "stdout",
     "output_type": "stream",
     "text": [
      "Accuracy on training data using two features = 0.922401\n"
     ]
    }
   ],
   "source": [
    "Xa = np.concatenate((np.ones((X.shape[0],1)),X),axis=1)\n",
    "yhat = (Xa@beta)[:,0]\n",
    "yhati= (yhat >=.5).astype(int)\n",
    "acc = np.mean(yhati == y)\n",
    "print(\"Accuracy on training data using two features = %f\" % acc)"
   ]
  },
  {
   "cell_type": "markdown",
   "metadata": {},
   "source": [
    "We also calculate the precision and recall. Here a \"positive\" example is a malignant biopsy, which is what we are hoping to detect. See https://en.wikipedia.org/wiki/Precision_and_recall for a refresher on precision and recall."
   ]
  },
  {
   "cell_type": "code",
   "execution_count": 12,
   "metadata": {},
   "outputs": [
    {
     "name": "stdout",
     "output_type": "stream",
     "text": [
      "Recall: 0.799163179916318\n",
      "Precision: 0.9744897959183674\n"
     ]
    }
   ],
   "source": [
    "recall = np.sum((yhati == 1)*(y == 1))/np.sum(y == 1)\n",
    "precision = np.sum((yhati == 1)*(y == 1))/np.sum(yhati == 1)\n",
    "print(\"Recall: \" + str(recall))\n",
    "print(\"Precision: \" + str(precision))"
   ]
  },
  {
   "cell_type": "markdown",
   "metadata": {},
   "source": [
    "## Logistic Functions\n"
   ]
  },
  {
   "cell_type": "markdown",
   "metadata": {},
   "source": [
    "Overall, a basic linear classifier trained with squared loss did not do a bad job! However, we might hope to do a bit better on recall and overall accuracy. The classifier above seems to be shifted a bit too far \"right\" than what we might guess would be ideal. **Question**: Why do you think this is?\n",
    "\n",
    "An alternative approach is to train a linear classifier with logistic loss. In particular, for a data vector $\\mathbf{x}$, we let $h_{\\mathbf{\\beta}}(\\mathbf{x}) = \\frac{1}{1 + e^{-\\mathbf{x}^T\\mathbf{\\beta}}}$ and we minimize the cross-entropy loss (aka the logistic loss):\n",
    "$$\n",
    "L(\\mathbf{\\beta}) = - \\sum_{i=1}^n y_i \\log(h_{\\mathbf{\\beta}}(\\mathbf{x}_i)) + (1-y_i) \\log(1-h_{\\mathbf{\\beta}}(\\mathbf{x}_i))\n",
    "$$\n",
    "\n",
    "Since we don't have a closed form expression for the optimal $\\mathbf{\\beta}^*$ to minimized this loss, we need to find $\\mathbf{\\beta}^*$ using an iterative method like gradient descent. We will discuss the details of how to do this in a few lectures. For now we just use the built in logistic regression functionality within `sklearn`.\n",
    "\n",
    "Note that by setting `penalty='none'` we are opting to use no regularization. We have to set the `solver` parameter manually to avoid an error with the default solver. LBFGS is just a specific iterative method for finding the optimal parameters for the model (for more info see https://en.wikipedia.org/wiki/Broyden%E2%80%93Fletcher%E2%80%93Goldfarb%E2%80%93Shanno_algorithm). Since our problem is small, the specific choice of solver doesn't matter too much."
   ]
  },
  {
   "cell_type": "code",
   "execution_count": 13,
   "metadata": {},
   "outputs": [],
   "source": [
    "logreg = linear_model.LogisticRegression(penalty='none',solver='lbfgs')\n",
    "logreg.fit(X, y)\n",
    "betal = np.array([logreg.intercept_[0],logreg.coef_[0,0],logreg.coef_[0,1]])"
   ]
  },
  {
   "cell_type": "markdown",
   "metadata": {},
   "source": [
    "Again we want to predict $y_i = 0$ whenever $h_{\\mathbf{\\beta}}(\\mathbf{x}_i) < 1/2$ and $y_i = 1$ otherwise. With some quick algebra, it's not hard to check that this is equivalent to predicting $y_i = 0$ whenever $\\mathbf{x}_i^T\\beta < 0$ and $y_i = 1$ whenever $\\mathbf{x}_i^T\\beta \\geq 0$. This is what we do below."
   ]
  },
  {
   "cell_type": "code",
   "execution_count": 14,
   "metadata": {},
   "outputs": [],
   "source": [
    "yhat = (Xa@betal[:,None])[:,0]\n",
    "yhatl= (yhat >=0).astype(int) # these are our predicted class labels. "
   ]
  },
  {
   "cell_type": "markdown",
   "metadata": {},
   "source": [
    "Again we compute the overall accuracy, precision, and recall."
   ]
  },
  {
   "cell_type": "code",
   "execution_count": 15,
   "metadata": {
    "scrolled": true
   },
   "outputs": [
    {
     "name": "stdout",
     "output_type": "stream",
     "text": [
      "Accuracy on training data using two features = 0.941435\n",
      "Recall: 0.895397489539749\n",
      "Precision: 0.9344978165938864\n"
     ]
    }
   ],
   "source": [
    "acc = np.mean(yhatl == y)\n",
    "print(\"Accuracy on training data using two features = %f\" % acc)\n",
    "recall = np.sum((yhatl == 1)*(y == 1))/np.sum(y == 1)\n",
    "precision = np.sum((yhatl == 1)*(y == 1))/np.sum(yhatl == 1)\n",
    "print(\"Recall: \" + str(recall))\n",
    "print(\"Precision: \" + str(precision))"
   ]
  },
  {
   "cell_type": "markdown",
   "metadata": {},
   "source": [
    "We improved on both accuracy and recall! And a visual plot of our new linear classifier confirms a better visual fit to the data."
   ]
  },
  {
   "cell_type": "code",
   "execution_count": 16,
   "metadata": {
    "scrolled": true
   },
   "outputs": [
    {
     "data": {
      "text/plain": [
       "[<matplotlib.lines.Line2D at 0x1a1e660e50>]"
      ]
     },
     "execution_count": 16,
     "metadata": {},
     "output_type": "execute_result"
    },
    {
     "data": {
      "image/png": "[encoded data removed]",
      "text/plain": [
       "<Figure size 432x288 with 1 Axes>"
      ]
     },
     "metadata": {
      "needs_background": "light"
     },
     "output_type": "display_data"
    }
   ],
   "source": [
    "plt = plot_cnt(X,y)\n",
    "x1=np.zeros([11,1])\n",
    "x2=np.zeros([11,1])\n",
    "for i in range(11):\n",
    "    x1[i]=i;\n",
    "    x2[i]=(0-betal[0]-betal[1]*i)/betal[2]\n",
    "    \n",
    "plt.plot(x1, x2)"
   ]
  },
  {
   "cell_type": "markdown",
   "metadata": {},
   "source": [
    "Finally, we try fitting a logistic regression model with all of the predictor data. Here we do everything with `sklearn`'s built in functions. Not surprisingly, we see a lift in performance."
   ]
  }
 ],
 "metadata": {
  "anaconda-cloud": {},
  "kernelspec": {
   "display_name": "Python 3",
   "language": "python",
   "name": "python3"
  },
  "language_info": {
   "codemirror_mode": {
    "name": "ipython",
    "version": 3
   },
   "file_extension": ".py",
   "mimetype": "text/x-python",
   "name": "python",
   "nbconvert_exporter": "python",
   "pygments_lexer": "ipython3",
   "version": "3.7.4"
  }
 },
 "nbformat": 4,
 "nbformat_minor": 1
}
